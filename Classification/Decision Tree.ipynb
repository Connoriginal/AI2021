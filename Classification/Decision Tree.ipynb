{
 "cells": [
  {
   "cell_type": "markdown",
   "id": "7ff3b722",
   "metadata": {},
   "source": [
    "# Decision Tree\n"
   ]
  },
  {
   "cell_type": "code",
   "execution_count": 1,
   "id": "1280d560",
   "metadata": {},
   "outputs": [],
   "source": [
    "import pandas as pd\n",
    "import numpy as np\n",
    "from sklearn import tree\n",
    "from sklearn.metrics import accuracy_score\n",
    "from sklearn.model_selection import KFold, cross_val_score"
   ]
  },
  {
   "cell_type": "markdown",
   "id": "6897239e",
   "metadata": {},
   "source": [
    "## Data Preprocessing"
   ]
  },
  {
   "cell_type": "code",
   "execution_count": 2,
   "id": "8393f09d",
   "metadata": {},
   "outputs": [
    {
     "data": {
      "text/html": [
       "<div>\n",
       "<style scoped>\n",
       "    .dataframe tbody tr th:only-of-type {\n",
       "        vertical-align: middle;\n",
       "    }\n",
       "\n",
       "    .dataframe tbody tr th {\n",
       "        vertical-align: top;\n",
       "    }\n",
       "\n",
       "    .dataframe thead th {\n",
       "        text-align: right;\n",
       "    }\n",
       "</style>\n",
       "<table border=\"1\" class=\"dataframe\">\n",
       "  <thead>\n",
       "    <tr style=\"text-align: right;\">\n",
       "      <th></th>\n",
       "      <th>preg</th>\n",
       "      <th>plas</th>\n",
       "      <th>pres</th>\n",
       "      <th>skin</th>\n",
       "      <th>insu</th>\n",
       "      <th>mass</th>\n",
       "      <th>pedi</th>\n",
       "      <th>age</th>\n",
       "      <th>class</th>\n",
       "    </tr>\n",
       "  </thead>\n",
       "  <tbody>\n",
       "    <tr>\n",
       "      <th>0</th>\n",
       "      <td>6</td>\n",
       "      <td>148</td>\n",
       "      <td>72</td>\n",
       "      <td>35</td>\n",
       "      <td>0</td>\n",
       "      <td>33.6</td>\n",
       "      <td>0.627</td>\n",
       "      <td>50</td>\n",
       "      <td>tested_positive</td>\n",
       "    </tr>\n",
       "    <tr>\n",
       "      <th>1</th>\n",
       "      <td>1</td>\n",
       "      <td>85</td>\n",
       "      <td>66</td>\n",
       "      <td>29</td>\n",
       "      <td>0</td>\n",
       "      <td>26.6</td>\n",
       "      <td>0.351</td>\n",
       "      <td>31</td>\n",
       "      <td>tested_negative</td>\n",
       "    </tr>\n",
       "    <tr>\n",
       "      <th>2</th>\n",
       "      <td>8</td>\n",
       "      <td>183</td>\n",
       "      <td>64</td>\n",
       "      <td>0</td>\n",
       "      <td>0</td>\n",
       "      <td>23.3</td>\n",
       "      <td>0.672</td>\n",
       "      <td>32</td>\n",
       "      <td>tested_positive</td>\n",
       "    </tr>\n",
       "    <tr>\n",
       "      <th>3</th>\n",
       "      <td>1</td>\n",
       "      <td>89</td>\n",
       "      <td>66</td>\n",
       "      <td>23</td>\n",
       "      <td>94</td>\n",
       "      <td>28.1</td>\n",
       "      <td>0.167</td>\n",
       "      <td>21</td>\n",
       "      <td>tested_negative</td>\n",
       "    </tr>\n",
       "    <tr>\n",
       "      <th>4</th>\n",
       "      <td>0</td>\n",
       "      <td>137</td>\n",
       "      <td>40</td>\n",
       "      <td>35</td>\n",
       "      <td>168</td>\n",
       "      <td>43.1</td>\n",
       "      <td>2.288</td>\n",
       "      <td>33</td>\n",
       "      <td>tested_positive</td>\n",
       "    </tr>\n",
       "  </tbody>\n",
       "</table>\n",
       "</div>"
      ],
      "text/plain": [
       "   preg  plas  pres  skin  insu  mass   pedi  age            class\n",
       "0     6   148    72    35     0  33.6  0.627   50  tested_positive\n",
       "1     1    85    66    29     0  26.6  0.351   31  tested_negative\n",
       "2     8   183    64     0     0  23.3  0.672   32  tested_positive\n",
       "3     1    89    66    23    94  28.1  0.167   21  tested_negative\n",
       "4     0   137    40    35   168  43.1  2.288   33  tested_positive"
      ]
     },
     "execution_count": 2,
     "metadata": {},
     "output_type": "execute_result"
    }
   ],
   "source": [
    "df = pd.read_csv(\"../datasets/diabetes.csv\")\n",
    "df.head()"
   ]
  },
  {
   "cell_type": "code",
   "execution_count": 5,
   "id": "6d4800c6",
   "metadata": {},
   "outputs": [
    {
     "name": "stdout",
     "output_type": "stream",
     "text": [
      "[[6 148 72 35 0 33.6 0.627 50]\n",
      " [1 85 66 29 0 26.6 0.351 31]\n",
      " [8 183 64 0 0 23.3 0.672 32]\n",
      " [1 89 66 23 94 28.1 0.167 21]\n",
      " [0 137 40 35 168 43.1 2.288 33]]\n",
      "['tested_positive' 'tested_negative' 'tested_positive' 'tested_negative'\n",
      " 'tested_positive']\n"
     ]
    }
   ],
   "source": [
    "X = df.values[:,:-1]\n",
    "Y = df.values[:,-1]\n",
    "print(X[:5])\n",
    "print(Y[:5])"
   ]
  },
  {
   "cell_type": "markdown",
   "id": "dcd19f23",
   "metadata": {},
   "source": [
    "## Building a Tree and Testing"
   ]
  },
  {
   "cell_type": "code",
   "execution_count": 6,
   "id": "6109a1a7",
   "metadata": {},
   "outputs": [
    {
     "name": "stdout",
     "output_type": "stream",
     "text": [
      "['tested_negative' 'tested_positive']\n"
     ]
    }
   ],
   "source": [
    "# Train a Decision Tree\n",
    "clf = tree.DecisionTreeClassifier(criterion=\"entropy\")\n",
    "clf = clf.fit(X,Y)\n",
    "print(clf.classes_)\n",
    "\n",
    "### Parameters of DecisionTreeClassifier\n",
    "## criterion : The function to measure the quality of a split. {\"gini\",\"entropy\"}\n",
    "## max_depth : The maximum depth of the tree\n",
    "## min_samples_split : The minimum # of samples requires to split an internal node.\n",
    "## min_samples_leaf : The minimum # of samples required to be at a leaf node."
   ]
  },
  {
   "cell_type": "code",
   "execution_count": 7,
   "id": "f3d67bf8",
   "metadata": {},
   "outputs": [
    {
     "name": "stdout",
     "output_type": "stream",
     "text": [
      "[[5, 120, 65, 30, 100, 24, 0.3, 40]]\n",
      "['tested_negative']\n"
     ]
    }
   ],
   "source": [
    "# Output represents the predicted label of each data\n",
    "test_X = [[5,120,65,30,100,24,0.3,40]]\n",
    "print(test_X)\n",
    "pred_y = clf.predict(test_X)\n",
    "print(pred_y)"
   ]
  },
  {
   "cell_type": "code",
   "execution_count": 8,
   "id": "d53d0f5a",
   "metadata": {},
   "outputs": [
    {
     "name": "stdout",
     "output_type": "stream",
     "text": [
      "[[1. 0.]]\n"
     ]
    }
   ],
   "source": [
    "# The probability of each label can also be shown\n",
    "\n",
    "pred_prob = clf.predict_proba(test_X)\n",
    "print(pred_prob)"
   ]
  },
  {
   "cell_type": "markdown",
   "id": "01829303",
   "metadata": {},
   "source": [
    "## Cross-Validation"
   ]
  },
  {
   "cell_type": "code",
   "execution_count": 9,
   "id": "567f7110",
   "metadata": {},
   "outputs": [
    {
     "name": "stdout",
     "output_type": "stream",
     "text": [
      "0.7303485987696514\n"
     ]
    }
   ],
   "source": [
    "cv = KFold(n_splits=10,\n",
    "          shuffle=True,\n",
    "          random_state=0)\n",
    "cv_results = cross_val_score(clf,X,Y,cv=cv)\n",
    "\n",
    "print(cv_results.mean())"
   ]
  },
  {
   "cell_type": "markdown",
   "id": "d6543589",
   "metadata": {},
   "source": [
    "## Effect of Tree Size"
   ]
  },
  {
   "cell_type": "code",
   "execution_count": 10,
   "id": "89f5bd00",
   "metadata": {},
   "outputs": [
    {
     "name": "stdout",
     "output_type": "stream",
     "text": [
      "0.7381408065618592\n",
      "16\n"
     ]
    }
   ],
   "source": [
    "clf = tree.DecisionTreeClassifier(criterion=\"entropy\")\n",
    "clf = clf.fit(X,Y)\n",
    "cv = KFold(n_splits=10,\n",
    "          shuffle=True,\n",
    "          random_state=0)\n",
    "cv_results = cross_val_score(clf,X,Y,cv=cv)\n",
    "\n",
    "print(cv_results.mean()) # mean accuracy\n",
    "print(clf.get_depth()) # classifier depth"
   ]
  },
  {
   "cell_type": "code",
   "execution_count": 11,
   "id": "6c662ce5",
   "metadata": {},
   "outputs": [
    {
     "name": "stdout",
     "output_type": "stream",
     "text": [
      "0.7603041695146958\n",
      "5\n"
     ]
    }
   ],
   "source": [
    "clf = tree.DecisionTreeClassifier(criterion=\"entropy\", max_depth=5)\n",
    "clf = clf.fit(X,Y)\n",
    "cv = KFold(n_splits=10,\n",
    "          shuffle=True,\n",
    "          random_state=0)\n",
    "cv_results = cross_val_score(clf,X,Y,cv=cv)\n",
    "\n",
    "print(cv_results.mean()) # mean accuracy\n",
    "print(clf.get_depth()) # classifier depth"
   ]
  },
  {
   "cell_type": "code",
   "execution_count": null,
   "id": "9dca20ab",
   "metadata": {},
   "outputs": [],
   "source": []
  }
 ],
 "metadata": {
  "kernelspec": {
   "display_name": "Python 3",
   "language": "python",
   "name": "python3"
  },
  "language_info": {
   "codemirror_mode": {
    "name": "ipython",
    "version": 3
   },
   "file_extension": ".py",
   "mimetype": "text/x-python",
   "name": "python",
   "nbconvert_exporter": "python",
   "pygments_lexer": "ipython3",
   "version": "3.9.6"
  }
 },
 "nbformat": 4,
 "nbformat_minor": 5
}
