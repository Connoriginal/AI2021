{
 "cells": [
  {
   "cell_type": "markdown",
   "id": "665a2c94",
   "metadata": {},
   "source": [
    "# K-Nearest Neighbor Classifier"
   ]
  },
  {
   "cell_type": "code",
   "execution_count": 1,
   "id": "74ddfb86",
   "metadata": {},
   "outputs": [],
   "source": [
    "import pandas as pd\n",
    "from sklearn.model_selection import cross_val_score\n",
    "from sklearn.model_selection import KFold\n",
    "from sklearn.neighbors import KNeighborsClassifier"
   ]
  },
  {
   "cell_type": "markdown",
   "id": "a5b65aba",
   "metadata": {},
   "source": [
    "## Data Preprocessing\n",
    "\n",
    "### glass.csv\n",
    "#### Classify the types of glass\n",
    "* Motivatd by criminological investigation <br/>\n",
    "At the scene of the crime, the glass left can be used as evidence... if it is correctly identified!<br/><br/>\n",
    "\n",
    "* Features : <br/>\n",
    "```\n",
    "RI : regractive index \n",
    "Na : Sodium \n",
    "Mg: Magnesium \n",
    "...\n",
    "```\n",
    "* Types of glass : <br/>\n",
    "```\n",
    "building_windows_float_processed\n",
    "building_windows_non_float_processed\n",
    "vehicle_windows_float_processed\n",
    "```"
   ]
  },
  {
   "cell_type": "code",
   "execution_count": 2,
   "id": "4fa4780d",
   "metadata": {},
   "outputs": [
    {
     "data": {
      "text/html": [
       "<div>\n",
       "<style scoped>\n",
       "    .dataframe tbody tr th:only-of-type {\n",
       "        vertical-align: middle;\n",
       "    }\n",
       "\n",
       "    .dataframe tbody tr th {\n",
       "        vertical-align: top;\n",
       "    }\n",
       "\n",
       "    .dataframe thead th {\n",
       "        text-align: right;\n",
       "    }\n",
       "</style>\n",
       "<table border=\"1\" class=\"dataframe\">\n",
       "  <thead>\n",
       "    <tr style=\"text-align: right;\">\n",
       "      <th></th>\n",
       "      <th>RI</th>\n",
       "      <th>Na</th>\n",
       "      <th>Mg</th>\n",
       "      <th>Al</th>\n",
       "      <th>Si</th>\n",
       "      <th>K</th>\n",
       "      <th>Ca</th>\n",
       "      <th>Ba</th>\n",
       "      <th>Fe</th>\n",
       "      <th>Type</th>\n",
       "    </tr>\n",
       "  </thead>\n",
       "  <tbody>\n",
       "    <tr>\n",
       "      <th>0</th>\n",
       "      <td>1.51793</td>\n",
       "      <td>12.79</td>\n",
       "      <td>3.50</td>\n",
       "      <td>1.12</td>\n",
       "      <td>73.03</td>\n",
       "      <td>0.64</td>\n",
       "      <td>8.77</td>\n",
       "      <td>0.0</td>\n",
       "      <td>0.00</td>\n",
       "      <td>'build wind float'</td>\n",
       "    </tr>\n",
       "    <tr>\n",
       "      <th>1</th>\n",
       "      <td>1.51643</td>\n",
       "      <td>12.16</td>\n",
       "      <td>3.52</td>\n",
       "      <td>1.35</td>\n",
       "      <td>72.89</td>\n",
       "      <td>0.57</td>\n",
       "      <td>8.53</td>\n",
       "      <td>0.0</td>\n",
       "      <td>0.00</td>\n",
       "      <td>'vehic wind float'</td>\n",
       "    </tr>\n",
       "    <tr>\n",
       "      <th>2</th>\n",
       "      <td>1.51793</td>\n",
       "      <td>13.21</td>\n",
       "      <td>3.48</td>\n",
       "      <td>1.41</td>\n",
       "      <td>72.64</td>\n",
       "      <td>0.59</td>\n",
       "      <td>8.43</td>\n",
       "      <td>0.0</td>\n",
       "      <td>0.00</td>\n",
       "      <td>'build wind float'</td>\n",
       "    </tr>\n",
       "    <tr>\n",
       "      <th>3</th>\n",
       "      <td>1.51299</td>\n",
       "      <td>14.40</td>\n",
       "      <td>1.74</td>\n",
       "      <td>1.54</td>\n",
       "      <td>74.55</td>\n",
       "      <td>0.00</td>\n",
       "      <td>7.59</td>\n",
       "      <td>0.0</td>\n",
       "      <td>0.00</td>\n",
       "      <td>tableware</td>\n",
       "    </tr>\n",
       "    <tr>\n",
       "      <th>4</th>\n",
       "      <td>1.53393</td>\n",
       "      <td>12.30</td>\n",
       "      <td>0.00</td>\n",
       "      <td>1.00</td>\n",
       "      <td>70.16</td>\n",
       "      <td>0.12</td>\n",
       "      <td>16.19</td>\n",
       "      <td>0.0</td>\n",
       "      <td>0.24</td>\n",
       "      <td>'build wind non-float'</td>\n",
       "    </tr>\n",
       "  </tbody>\n",
       "</table>\n",
       "</div>"
      ],
      "text/plain": [
       "        RI     Na    Mg    Al     Si     K     Ca   Ba    Fe  \\\n",
       "0  1.51793  12.79  3.50  1.12  73.03  0.64   8.77  0.0  0.00   \n",
       "1  1.51643  12.16  3.52  1.35  72.89  0.57   8.53  0.0  0.00   \n",
       "2  1.51793  13.21  3.48  1.41  72.64  0.59   8.43  0.0  0.00   \n",
       "3  1.51299  14.40  1.74  1.54  74.55  0.00   7.59  0.0  0.00   \n",
       "4  1.53393  12.30  0.00  1.00  70.16  0.12  16.19  0.0  0.24   \n",
       "\n",
       "                     Type  \n",
       "0      'build wind float'  \n",
       "1      'vehic wind float'  \n",
       "2      'build wind float'  \n",
       "3               tableware  \n",
       "4  'build wind non-float'  "
      ]
     },
     "execution_count": 2,
     "metadata": {},
     "output_type": "execute_result"
    }
   ],
   "source": [
    "df = pd.read_csv(\"../datasets/glass.csv\")\n",
    "df.head()"
   ]
  },
  {
   "cell_type": "code",
   "execution_count": 3,
   "id": "66e9f64e",
   "metadata": {
    "scrolled": true
   },
   "outputs": [
    {
     "name": "stdout",
     "output_type": "stream",
     "text": [
      "[[1.51793 12.79 3.5 ... 8.77 0.0 0.0]\n",
      " [1.51643 12.16 3.52 ... 8.53 0.0 0.0]\n",
      " [1.51793 13.21 3.48 ... 8.43 0.0 0.0]\n",
      " ...\n",
      " [1.51613 13.92 3.52 ... 7.94 0.0 0.14]\n",
      " [1.51689 12.67 2.88 ... 8.54 0.0 0.0]\n",
      " [1.51852 14.09 2.19 ... 9.32 0.0 0.0]]\n",
      "[\"'build wind float'\" \"'vehic wind float'\" \"'build wind float'\"\n",
      " 'tableware' \"'build wind non-float'\" \"'build wind non-float'\"\n",
      " \"'vehic wind float'\" \"'build wind float'\" 'headlamps'\n",
      " \"'build wind non-float'\" \"'build wind non-float'\"\n",
      " \"'build wind non-float'\" \"'build wind float'\" \"'vehic wind float'\"\n",
      " \"'vehic wind float'\" \"'build wind non-float'\" 'headlamps'\n",
      " \"'build wind non-float'\" 'containers' \"'build wind non-float'\"\n",
      " \"'build wind float'\" \"'build wind non-float'\" \"'build wind non-float'\"\n",
      " \"'build wind float'\" 'containers' \"'build wind non-float'\"\n",
      " \"'build wind non-float'\" 'headlamps' \"'build wind non-float'\"\n",
      " \"'vehic wind float'\" \"'build wind non-float'\" \"'vehic wind float'\"\n",
      " 'tableware' \"'build wind non-float'\" \"'build wind float'\"\n",
      " \"'build wind float'\" \"'build wind float'\" \"'build wind non-float'\"\n",
      " \"'build wind non-float'\" \"'build wind non-float'\" \"'build wind float'\"\n",
      " \"'build wind non-float'\" \"'build wind non-float'\"\n",
      " \"'build wind non-float'\" \"'vehic wind float'\" \"'build wind float'\"\n",
      " 'containers' \"'build wind float'\" \"'build wind float'\"\n",
      " \"'build wind non-float'\" \"'build wind float'\" \"'build wind non-float'\"\n",
      " \"'build wind float'\" \"'build wind non-float'\" 'headlamps'\n",
      " \"'build wind float'\" 'headlamps' \"'build wind float'\"\n",
      " \"'vehic wind float'\" \"'build wind non-float'\" \"'build wind non-float'\"\n",
      " \"'build wind float'\" \"'build wind float'\" \"'build wind float'\"\n",
      " \"'build wind float'\" 'headlamps' \"'build wind float'\"\n",
      " \"'vehic wind float'\" \"'build wind non-float'\" \"'build wind float'\"\n",
      " 'tableware' \"'build wind non-float'\" 'tableware' \"'build wind non-float'\"\n",
      " \"'build wind float'\" \"'build wind non-float'\" \"'build wind float'\"\n",
      " \"'build wind float'\" \"'vehic wind float'\" \"'build wind float'\"\n",
      " \"'build wind float'\" \"'build wind float'\" \"'vehic wind float'\"\n",
      " \"'build wind float'\" 'containers' \"'build wind non-float'\"\n",
      " \"'build wind non-float'\" \"'build wind float'\" \"'build wind float'\"\n",
      " \"'build wind non-float'\" 'headlamps' \"'build wind float'\"\n",
      " \"'build wind float'\" 'tableware' 'headlamps' \"'build wind float'\"\n",
      " 'headlamps' \"'build wind non-float'\" \"'build wind non-float'\"\n",
      " \"'build wind non-float'\" \"'build wind float'\" \"'build wind non-float'\"\n",
      " 'headlamps' 'headlamps' 'headlamps' 'containers' \"'build wind non-float'\"\n",
      " 'headlamps' \"'build wind float'\" 'containers' \"'build wind non-float'\"\n",
      " 'headlamps' \"'build wind float'\" 'headlamps' \"'vehic wind float'\"\n",
      " 'headlamps' \"'build wind non-float'\" 'headlamps' \"'build wind non-float'\"\n",
      " \"'build wind float'\" \"'build wind non-float'\" \"'build wind float'\"\n",
      " \"'build wind non-float'\" \"'build wind non-float'\" 'containers'\n",
      " \"'build wind float'\" 'headlamps' 'headlamps' \"'build wind float'\"\n",
      " \"'build wind float'\" \"'build wind non-float'\" \"'build wind non-float'\"\n",
      " 'headlamps' \"'build wind float'\" 'containers' \"'build wind float'\"\n",
      " \"'build wind float'\" \"'build wind non-float'\" \"'build wind float'\"\n",
      " \"'build wind non-float'\" \"'build wind float'\" \"'build wind float'\"\n",
      " \"'build wind float'\" 'containers' \"'build wind non-float'\"\n",
      " \"'build wind non-float'\" \"'build wind non-float'\"\n",
      " \"'build wind non-float'\" \"'build wind non-float'\"\n",
      " \"'build wind non-float'\" 'headlamps' \"'build wind float'\"\n",
      " \"'build wind non-float'\" \"'build wind non-float'\" \"'vehic wind float'\"\n",
      " \"'build wind float'\" 'headlamps' 'containers' \"'build wind float'\"\n",
      " \"'build wind non-float'\" \"'build wind non-float'\" \"'build wind float'\"\n",
      " 'headlamps' 'containers' \"'build wind non-float'\" \"'build wind float'\"\n",
      " \"'build wind float'\" \"'build wind non-float'\" \"'build wind non-float'\"\n",
      " 'headlamps' \"'build wind non-float'\" \"'build wind non-float'\"\n",
      " \"'build wind float'\" 'headlamps' \"'build wind float'\" 'headlamps'\n",
      " \"'build wind float'\" \"'build wind float'\" 'containers' 'tableware'\n",
      " \"'build wind non-float'\" \"'build wind non-float'\" \"'vehic wind float'\"\n",
      " \"'build wind non-float'\" \"'build wind float'\" 'headlamps'\n",
      " \"'build wind float'\" \"'build wind float'\" \"'vehic wind float'\"\n",
      " 'containers' \"'build wind float'\" \"'build wind float'\" 'tableware'\n",
      " 'headlamps' 'tableware' \"'build wind non-float'\" \"'build wind non-float'\"\n",
      " \"'build wind non-float'\" \"'build wind non-float'\"\n",
      " \"'build wind non-float'\" \"'build wind non-float'\" \"'build wind float'\"\n",
      " \"'vehic wind float'\" \"'build wind float'\" \"'build wind non-float'\"\n",
      " \"'build wind float'\" 'headlamps' \"'build wind float'\"\n",
      " \"'build wind float'\" \"'vehic wind float'\" \"'build wind non-float'\"\n",
      " \"'build wind non-float'\" \"'build wind non-float'\" 'tableware']\n"
     ]
    }
   ],
   "source": [
    "X = df.values[:,:-1]\n",
    "Y = df.values[:,-1]\n",
    "print(X)\n",
    "print(Y)"
   ]
  },
  {
   "cell_type": "markdown",
   "id": "2cbf1c50",
   "metadata": {},
   "source": [
    "## Model "
   ]
  },
  {
   "cell_type": "code",
   "execution_count": 4,
   "id": "e0dce02c",
   "metadata": {},
   "outputs": [],
   "source": [
    "clf = KNeighborsClassifier(\n",
    "    n_neighbors = 10,\n",
    "    weights=\"uniform\",\n",
    "    metric=\"euclidean\"\n",
    ")\n",
    "\n",
    "### KNN parameters\n",
    "## n_neighbors : number of neighbors(k)\n",
    "## weights : weight function used in prediction\n",
    "##       'uniform' : all neighbors have same weight\n",
    "##       'distance' : weights are given according to the distance\n",
    "##        * note : user defined function can also be called\n",
    "## metric : the distance metric to use"
   ]
  },
  {
   "cell_type": "markdown",
   "id": "0d58104e",
   "metadata": {},
   "source": [
    "## K-fold Cross-Validation"
   ]
  },
  {
   "cell_type": "code",
   "execution_count": 6,
   "id": "4a27accc",
   "metadata": {},
   "outputs": [
    {
     "name": "stdout",
     "output_type": "stream",
     "text": [
      "0.6199134199134199\n"
     ]
    }
   ],
   "source": [
    "cv = KFold(\n",
    "    n_splits = 10,\n",
    "    shuffle = True,\n",
    "    random_state = 0 # random seed\n",
    ")\n",
    "\n",
    "cv_results = cross_val_score(clf,X,Y,cv=cv)\n",
    "\n",
    "print(cv_results.mean())"
   ]
  },
  {
   "cell_type": "markdown",
   "id": "9f054bd9",
   "metadata": {},
   "source": [
    "## Prediction with KNN"
   ]
  },
  {
   "cell_type": "code",
   "execution_count": 9,
   "id": "1c9e0c4d",
   "metadata": {},
   "outputs": [
    {
     "name": "stdout",
     "output_type": "stream",
     "text": [
      "[\"'build wind non-float'\"]\n"
     ]
    }
   ],
   "source": [
    "clf.fit(X,Y) # Train fit the model to the train data X\n",
    "\n",
    "pred_y = clf.predict([[1.5,13,1.5,1.5,70,0.5,8.9,0.1,0.2]])\n",
    "print(pred_y)"
   ]
  },
  {
   "cell_type": "markdown",
   "id": "81823ad3",
   "metadata": {},
   "source": [
    "## Comparison with Varying k"
   ]
  },
  {
   "cell_type": "code",
   "execution_count": 11,
   "id": "1654efd1",
   "metadata": {},
   "outputs": [
    {
     "name": "stdout",
     "output_type": "stream",
     "text": [
      "20 neighbors : 0.6155844155844156\n",
      "5 neighbors : 0.648051948051948\n",
      "1 neighbors : 0.7370129870129871\n"
     ]
    }
   ],
   "source": [
    "K = [20,5,1]\n",
    "\n",
    "for k in K :\n",
    "    clf = KNeighborsClassifier(n_neighbors = k, weights=\"uniform\", metric=\"euclidean\")\n",
    "    \n",
    "    results = cross_val_score(clf,X,Y,cv=cv)\n",
    "    \n",
    "    print(f\"{k} neighbors : {results.mean()}\")\n",
    "\n",
    "# Note : It is not always a good idea to increase k"
   ]
  },
  {
   "cell_type": "code",
   "execution_count": null,
   "id": "da9b6e7f",
   "metadata": {},
   "outputs": [],
   "source": []
  }
 ],
 "metadata": {
  "kernelspec": {
   "display_name": "Python 3",
   "language": "python",
   "name": "python3"
  },
  "language_info": {
   "codemirror_mode": {
    "name": "ipython",
    "version": 3
   },
   "file_extension": ".py",
   "mimetype": "text/x-python",
   "name": "python",
   "nbconvert_exporter": "python",
   "pygments_lexer": "ipython3",
   "version": "3.9.6"
  }
 },
 "nbformat": 4,
 "nbformat_minor": 5
}
