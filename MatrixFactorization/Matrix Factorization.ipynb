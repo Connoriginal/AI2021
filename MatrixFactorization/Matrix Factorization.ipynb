{
 "cells": [
  {
   "cell_type": "markdown",
   "id": "266b70aa",
   "metadata": {},
   "source": [
    "# Matrix Factorization"
   ]
  },
  {
   "cell_type": "code",
   "execution_count": 1,
   "id": "b5d4da25",
   "metadata": {},
   "outputs": [],
   "source": [
    "import torch\n",
    "import pandas as pd\n",
    "import torch.nn.functional as F\n",
    "import matplotlib.pyplot as plt\n",
    "from torch import nn\n",
    "from torch.utils.data import Dataset, DataLoader"
   ]
  },
  {
   "cell_type": "markdown",
   "id": "55606081",
   "metadata": {},
   "source": [
    "## Load MovieLens Dataset"
   ]
  },
  {
   "cell_type": "code",
   "execution_count": 2,
   "id": "5ed463a9",
   "metadata": {},
   "outputs": [],
   "source": [
    "class MovieLensDataset(Dataset):\n",
    "    def __init__(self,datapath):\n",
    "        self.data_pd = pd.read_csv(datapath,sep=\"\\t\",names=[\"user\",\"movie\",\"rating\",\"timestamp\"])\n",
    "        self.items = torch.LongTensor(self.data_pd['movie'])\n",
    "        self.users = torch.LongTensor(self.data_pd['user'])\n",
    "        self.ratings = torch.FloatTensor(self.data_pd['rating'])\n",
    "    \n",
    "    def __len__(self):\n",
    "        return len(self.ratings)\n",
    "    \n",
    "    def __getitem__(self,idx):\n",
    "        return self.users[idx], self.items[idx], self.ratings[idx]\n",
    "    \n",
    "    def get_datasize(self):\n",
    "        return self.users.max()+1,self.items.max()+1,len(self.ratings)"
   ]
  },
  {
   "cell_type": "code",
   "execution_count": 3,
   "id": "8a982f85",
   "metadata": {},
   "outputs": [],
   "source": [
    "train_data = MovieLensDataset(\"../datasets/MovieLens/ml-100k/ua.base\")\n",
    "test_data = MovieLensDataset(\"../datasets/MovieLens/ml-100k/ua.test\")\n",
    "\n",
    "batch_size = 128\n",
    "train_loader = DataLoader(train_data, batch_size = batch_size, shuffle = True)\n",
    "test_loader = DataLoader(test_data, batch_size = batch_size, shuffle = False)"
   ]
  },
  {
   "cell_type": "markdown",
   "id": "061dd233",
   "metadata": {},
   "source": [
    "## Initialization"
   ]
  },
  {
   "cell_type": "code",
   "execution_count": 4,
   "id": "02e2e373",
   "metadata": {},
   "outputs": [],
   "source": [
    "n_users, n_items, n_ratings = train_data.get_datasize()\n",
    "_,_,n_ratings_test = test_data.get_datasize()"
   ]
  },
  {
   "cell_type": "code",
   "execution_count": 5,
   "id": "8a4b5867",
   "metadata": {},
   "outputs": [],
   "source": [
    "class MF(nn.Module):\n",
    "    def __init__(self, num_users, num_items, rank = 10):\n",
    "        super().__init__()\n",
    "        self.U = nn.Parameter(torch.randn(num_users,rank))\n",
    "        self.V = nn.Parameter(torch.randn(num_items,rank))\n",
    "    \n",
    "    def forward(self,users,items):\n",
    "        ratings = torch.sum(self.U[users]*self.V[items],dim = -1)\n",
    "        return ratings"
   ]
  },
  {
   "cell_type": "code",
   "execution_count": 6,
   "id": "6fd1a04c",
   "metadata": {},
   "outputs": [],
   "source": [
    "mf_model = MF(n_users, n_items, rank = 16)\n",
    "optimizer = torch.optim.Adam(mf_model.parameters(),lr = 0.01)\n",
    "criterion = nn.MSELoss()"
   ]
  },
  {
   "cell_type": "markdown",
   "id": "15b4bca9",
   "metadata": {},
   "source": [
    "## Training"
   ]
  },
  {
   "cell_type": "code",
   "execution_count": 7,
   "id": "72e31fdb",
   "metadata": {
    "scrolled": true
   },
   "outputs": [
    {
     "name": "stdout",
     "output_type": "stream",
     "text": [
      "Epoch : 0\n",
      "train cost : 20.449340\n",
      "test cost : 15.940851\n",
      "Epoch : 1\n",
      "train cost : 5.265995\n",
      "test cost : 5.084339\n",
      "Epoch : 2\n",
      "train cost : 1.514143\n",
      "test cost : 2.958698\n",
      "Epoch : 3\n",
      "train cost : 1.038371\n",
      "test cost : 2.336312\n",
      "Epoch : 4\n",
      "train cost : 0.897178\n",
      "test cost : 2.090560\n",
      "Epoch : 5\n",
      "train cost : 0.836654\n",
      "test cost : 1.972741\n",
      "Epoch : 6\n",
      "train cost : 0.804020\n",
      "test cost : 1.896026\n",
      "Epoch : 7\n",
      "train cost : 0.778056\n",
      "test cost : 1.903479\n",
      "Epoch : 8\n",
      "train cost : 0.758061\n",
      "test cost : 1.847904\n",
      "Epoch : 9\n",
      "train cost : 0.738624\n",
      "test cost : 1.856937\n",
      "Epoch : 10\n",
      "train cost : 0.717216\n",
      "test cost : 1.784285\n",
      "Epoch : 11\n",
      "train cost : 0.698643\n",
      "test cost : 1.847141\n",
      "Epoch : 12\n",
      "train cost : 0.682977\n",
      "test cost : 1.798472\n",
      "Epoch : 13\n",
      "train cost : 0.668119\n",
      "test cost : 1.804359\n",
      "Epoch : 14\n",
      "train cost : 0.655392\n",
      "test cost : 1.823638\n",
      "Epoch : 15\n",
      "train cost : 0.645053\n",
      "test cost : 1.792940\n",
      "Epoch : 16\n",
      "train cost : 0.635308\n",
      "test cost : 1.818759\n",
      "Epoch : 17\n",
      "train cost : 0.629466\n",
      "test cost : 1.810498\n",
      "Epoch : 18\n",
      "train cost : 0.619851\n",
      "test cost : 1.803606\n",
      "Epoch : 19\n",
      "train cost : 0.614444\n",
      "test cost : 1.802408\n"
     ]
    }
   ],
   "source": [
    "for epoch in range(20):\n",
    "    cost = 0\n",
    "    for users, items, ratings in train_loader:\n",
    "        optimizer.zero_grad()\n",
    "        ratings_pred = mf_model(users,items)\n",
    "        loss = criterion(ratings_pred, ratings)\n",
    "        loss.backward()\n",
    "        optimizer.step()\n",
    "        cost += loss.item() * len(ratings) # len은 loss.item()이 batch size의 평균이라 곱해준것\n",
    "    \n",
    "    cost /= n_ratings\n",
    "    \n",
    "    print(f\"Epoch : {epoch}\")\n",
    "    print(\"train cost : {:.6f}\".format(cost))\n",
    "    \n",
    "    cost_test = 0\n",
    "    for users, items, ratings in test_loader:\n",
    "        ratings_pred = mf_model(users, items)\n",
    "        loss = criterion(ratings_pred, ratings)\n",
    "        cost_test += loss.item()*len(ratings)\n",
    "        \n",
    "    cost_test /= n_ratings_test\n",
    "    print(\"test cost : {:.6f}\".format(cost_test))"
   ]
  },
  {
   "cell_type": "code",
   "execution_count": null,
   "id": "c2d4796e",
   "metadata": {},
   "outputs": [],
   "source": []
  }
 ],
 "metadata": {
  "kernelspec": {
   "display_name": "Python 3",
   "language": "python",
   "name": "python3"
  },
  "language_info": {
   "codemirror_mode": {
    "name": "ipython",
    "version": 3
   },
   "file_extension": ".py",
   "mimetype": "text/x-python",
   "name": "python",
   "nbconvert_exporter": "python",
   "pygments_lexer": "ipython3",
   "version": "3.9.6"
  }
 },
 "nbformat": 4,
 "nbformat_minor": 5
}
