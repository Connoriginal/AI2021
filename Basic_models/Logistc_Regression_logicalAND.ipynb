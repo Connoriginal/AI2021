{
 "cells": [
  {
   "cell_type": "markdown",
   "id": "392799ef",
   "metadata": {},
   "source": [
    "# Logistic Regression (AND)"
   ]
  },
  {
   "cell_type": "code",
   "execution_count": 33,
   "id": "f27c5a79",
   "metadata": {},
   "outputs": [],
   "source": [
    "import random as rand\n",
    "from math import exp,log"
   ]
  },
  {
   "cell_type": "markdown",
   "id": "078eb770",
   "metadata": {},
   "source": [
    "## Data preparation"
   ]
  },
  {
   "cell_type": "code",
   "execution_count": 34,
   "id": "a0c201d6",
   "metadata": {},
   "outputs": [],
   "source": [
    "X = [(0,0),(1,0),(0,1),(1,1)]\n",
    "Y = [0,0,0,1]"
   ]
  },
  {
   "cell_type": "markdown",
   "id": "98a13b36",
   "metadata": {},
   "source": [
    "## Model"
   ]
  },
  {
   "cell_type": "code",
   "execution_count": 35,
   "id": "5af65065",
   "metadata": {},
   "outputs": [],
   "source": [
    "class logistic_regression_model():\n",
    "    def __init__(self) :\n",
    "        self.w = [rand.random(),rand.random()]\n",
    "        self.b = rand.random()\n",
    "        \n",
    "    def sigmoid(self,z) :\n",
    "        return 1/(1+exp(-z))\n",
    "    \n",
    "    def predict(self,x) :\n",
    "        z = self.w[0]*x[0] + self.w[1]*x[1] + self.b\n",
    "        a = self.sigmoid(z)\n",
    "        return a"
   ]
  },
  {
   "cell_type": "code",
   "execution_count": 36,
   "id": "257d4a2c",
   "metadata": {},
   "outputs": [
    {
     "name": "stdout",
     "output_type": "stream",
     "text": [
      "[0.10194787080392254, 0.21870456304839658] 0.09763023090372225\n"
     ]
    },
    {
     "data": {
      "text/plain": [
       "0.5243881891380248"
      ]
     },
     "execution_count": 36,
     "metadata": {},
     "output_type": "execute_result"
    }
   ],
   "source": [
    "model = logistic_regression_model()"
   ]
  },
  {
   "cell_type": "markdown",
   "id": "8d84f835",
   "metadata": {},
   "source": [
    "## Training"
   ]
  },
  {
   "cell_type": "code",
   "execution_count": 37,
   "id": "b20ea152",
   "metadata": {},
   "outputs": [],
   "source": [
    "def train(X,Y,model,lr = 0.1) :\n",
    "    dw0 = 0.0\n",
    "    dw1 = 0.0\n",
    "    db = 0.0\n",
    "    \n",
    "    m = len(X)\n",
    "    cost = 0.0\n",
    "    \n",
    "    for x,y in zip(X,Y) :\n",
    "        a = model.predict(x)\n",
    "        if y == 1 :\n",
    "            cost -= log(a)\n",
    "        else :\n",
    "            cost -= log(1-a)\n",
    "        dw0 += (a-y)*x[0]\n",
    "        dw1 += (a-y)*x[1]\n",
    "        db += (a-y)\n",
    "        \n",
    "    cost /= m\n",
    "    model.w[0] -= lr*dw0/m\n",
    "    model.w[1] -= lr*dw1/m\n",
    "    model.b -= lr*db/m\n",
    "    \n",
    "    return cost"
   ]
  },
  {
   "cell_type": "code",
   "execution_count": 38,
   "id": "a6bc132e",
   "metadata": {
    "scrolled": true
   },
   "outputs": [
    {
     "name": "stdout",
     "output_type": "stream",
     "text": [
      "0 0.7276374322162825\n",
      "100 0.453784252904318\n",
      "200 0.35819392613102563\n",
      "300 0.2984909506331024\n",
      "400 0.2571362948688106\n",
      "500 0.22643457288612837\n",
      "600 0.20253878551098495\n",
      "700 0.1833059252937415\n",
      "800 0.1674368685659139\n",
      "900 0.15409075495865038\n",
      "1000 0.14269477260540972\n",
      "1100 0.13284258624045664\n",
      "1200 0.12423641878188495\n",
      "1300 0.11665217189853203\n",
      "1400 0.10991743893301512\n",
      "1500 0.10389710047023423\n",
      "1600 0.09848357368489265\n",
      "1700 0.09359002454275342\n",
      "1800 0.08914552713413303\n",
      "1900 0.08509153846789316\n",
      "2000 0.0813792837304736\n",
      "2100 0.0779677852625551\n",
      "2200 0.07482235531721404\n",
      "2300 0.0719134286139716\n",
      "2400 0.06921564761545809\n",
      "2500 0.06670713832247128\n",
      "2600 0.06436893145897384\n",
      "2700 0.06218449584634175\n",
      "2800 0.060139359229003334\n",
      "2900 0.0582207979041294\n",
      "3000 0.05641758094869945\n",
      "3100 0.05471975811396301\n",
      "3200 0.05311848290189057\n",
      "3300 0.05160586418064198\n",
      "3400 0.0501748410978274\n",
      "3500 0.04881907712619353\n",
      "3600 0.047532869908865724\n",
      "3700 0.046311074220390214\n",
      "3800 0.04514903586957693\n",
      "3900 0.0440425347731529\n",
      "4000 0.04298773574986737\n",
      "4100 0.04198114584130092\n",
      "4200 0.04101957717217095\n",
      "4300 0.04010011453003469\n",
      "4400 0.03922008698020077\n",
      "4500 0.0383770429427074\n",
      "4600 0.03756872824938436\n",
      "4700 0.03679306677417067\n",
      "4800 0.0360481432920734\n",
      "4900 0.035332188273866666\n",
      "5000 0.0346435643667672\n",
      "5100 0.03398075434744824\n",
      "5200 0.03334235036410038\n",
      "5300 0.032727044309839234\n",
      "5400 0.03213361919139418\n",
      "5500 0.03156094137537211\n",
      "5600 0.031007953610009725\n",
      "5700 0.030473668733652544\n",
      "5800 0.029957163992605854\n",
      "5900 0.02945757590078258\n",
      "6000 0.028974095581987984\n",
      "6100 0.02850596454293881\n",
      "6200 0.02805247083137944\n",
      "6300 0.027612945539095067\n",
      "6400 0.02718675961433501\n",
      "6500 0.026773320952262536\n",
      "6600 0.026372071735629082\n",
      "6700 0.025982486000992067\n",
      "6800 0.02560406740853796\n",
      "6900 0.025236347195966676\n",
      "7000 0.024878882299010138\n",
      "7100 0.024531253623008047\n",
      "7200 0.024193064451606697\n",
      "7300 0.023863938980091752\n",
      "7400 0.02354352096214528\n",
      "7500 0.023231472459955174\n",
      "7600 0.022927472688608987\n",
      "7700 0.02263121694660162\n",
      "7800 0.022342415625085033\n",
      "7900 0.022060793289195975\n",
      "8000 0.021786087825436118\n",
      "8100 0.021518049649644815\n",
      "8200 0.02125644097061371\n",
      "8300 0.021001035104849006\n",
      "8400 0.020751615838394646\n",
      "8500 0.020507976832000955\n",
      "8600 0.02026992106624903\n",
      "8700 0.02003726032354651\n",
      "8800 0.019809814704172563\n",
      "8900 0.019587412173798467\n",
      "9000 0.0193698881401264\n",
      "9100 0.019157085056490178\n",
      "9200 0.01894885205044084\n",
      "9300 0.01874504457550396\n",
      "9400 0.01854552408444396\n",
      "9500 0.018350157722505873\n",
      "9600 0.018158818039227607\n",
      "9700 0.017971382717527427\n",
      "9800 0.017787734318874045\n",
      "9900 0.017607760043439172\n"
     ]
    }
   ],
   "source": [
    "for epoch in range(10000):\n",
    "    cost = train(X,Y,model,0.1)\n",
    "    if epoch % 100 == 0:\n",
    "        print(epoch, cost)"
   ]
  },
  {
   "cell_type": "markdown",
   "id": "73daf573",
   "metadata": {},
   "source": [
    "## Testing"
   ]
  },
  {
   "cell_type": "code",
   "execution_count": 39,
   "id": "406a2c2a",
   "metadata": {},
   "outputs": [
    {
     "data": {
      "text/plain": [
       "1.2483120378223878e-05"
      ]
     },
     "execution_count": 39,
     "metadata": {},
     "output_type": "execute_result"
    }
   ],
   "source": [
    "model.predict((0,0))"
   ]
  },
  {
   "cell_type": "code",
   "execution_count": 40,
   "id": "10de281c",
   "metadata": {},
   "outputs": [
    {
     "data": {
      "text/plain": [
       "0.02025717923612628"
      ]
     },
     "execution_count": 40,
     "metadata": {},
     "output_type": "execute_result"
    }
   ],
   "source": [
    "model.predict((0,1))"
   ]
  },
  {
   "cell_type": "code",
   "execution_count": 41,
   "id": "0f9a209b",
   "metadata": {},
   "outputs": [
    {
     "data": {
      "text/plain": [
       "0.020257177931222423"
      ]
     },
     "execution_count": 41,
     "metadata": {},
     "output_type": "execute_result"
    }
   ],
   "source": [
    "model.predict((1,0))"
   ]
  },
  {
   "cell_type": "code",
   "execution_count": 42,
   "id": "030be4ef",
   "metadata": {},
   "outputs": [
    {
     "data": {
      "text/plain": [
       "0.9716276878883269"
      ]
     },
     "execution_count": 42,
     "metadata": {},
     "output_type": "execute_result"
    }
   ],
   "source": [
    "model.predict((1,1))"
   ]
  },
  {
   "cell_type": "code",
   "execution_count": null,
   "id": "69790c08",
   "metadata": {},
   "outputs": [],
   "source": []
  }
 ],
 "metadata": {
  "kernelspec": {
   "display_name": "Python 3",
   "language": "python",
   "name": "python3"
  },
  "language_info": {
   "codemirror_mode": {
    "name": "ipython",
    "version": 3
   },
   "file_extension": ".py",
   "mimetype": "text/x-python",
   "name": "python",
   "nbconvert_exporter": "python",
   "pygments_lexer": "ipython3",
   "version": "3.9.6"
  }
 },
 "nbformat": 4,
 "nbformat_minor": 5
}
