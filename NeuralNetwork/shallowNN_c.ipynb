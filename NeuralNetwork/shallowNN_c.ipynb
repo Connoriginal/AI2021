{
 "cells": [
  {
   "cell_type": "code",
   "execution_count": 1,
   "id": "01ece310",
   "metadata": {},
   "outputs": [],
   "source": [
    "import numpy as np\n",
    "import matplotlib.pyplot as plt"
   ]
  },
  {
   "cell_type": "markdown",
   "id": "d7dfee45",
   "metadata": {},
   "source": [
    "## XOR data"
   ]
  },
  {
   "cell_type": "code",
   "execution_count": 2,
   "id": "34f3a732",
   "metadata": {},
   "outputs": [
    {
     "name": "stderr",
     "output_type": "stream",
     "text": [
      "<ipython-input-2-4224e6358b38>:1: DeprecationWarning: `np.float` is a deprecated alias for the builtin `float`. To silence this warning, use `float` by itself. Doing this will not modify any behavior and is safe. If you specifically wanted the numpy scalar type, use `np.float64` here.\n",
      "Deprecated in NumPy 1.20; for more details and guidance: https://numpy.org/devdocs/release/1.20.0-notes.html#deprecations\n",
      "  x_seeds = np.array([(0,0),(1,0),(0,1),(1,1)],dtype=np.float)\n"
     ]
    },
    {
     "data": {
      "text/plain": [
       "(4, 1)"
      ]
     },
     "execution_count": 2,
     "metadata": {},
     "output_type": "execute_result"
    }
   ],
   "source": [
    "x_seeds = np.array([(0,0),(1,0),(0,1),(1,1)],dtype=np.float)\n",
    "y_seeds = np.array([[0],[1],[1],[0]])\n",
    "y_seeds.shape"
   ]
  },
  {
   "cell_type": "code",
   "execution_count": 3,
   "id": "f7933215",
   "metadata": {},
   "outputs": [],
   "source": [
    "N = 1000\n",
    "idxs = np.random.randint(0,4,N)"
   ]
  },
  {
   "cell_type": "code",
   "execution_count": 4,
   "id": "07d68f57",
   "metadata": {},
   "outputs": [
    {
     "name": "stdout",
     "output_type": "stream",
     "text": [
      "X shape : (1000, 2)\n",
      "Y shape : (1000, 1)\n"
     ]
    }
   ],
   "source": [
    "X = x_seeds[idxs]\n",
    "Y = y_seeds[idxs]\n",
    "print(\"X shape : \" + str(X.shape) + \"\\nY shape : \" + str(Y.shape))\n",
    "# print(Y[:,0] == 1)"
   ]
  },
  {
   "cell_type": "code",
   "execution_count": 5,
   "id": "fbf5768f",
   "metadata": {},
   "outputs": [],
   "source": [
    "X += np.random.normal(scale = 0.25, size = X.shape)"
   ]
  },
  {
   "cell_type": "code",
   "execution_count": 6,
   "id": "b985bcbb",
   "metadata": {},
   "outputs": [],
   "source": [
    "idxs_1 = np.where(Y[:,0]==1)\n",
    "idxs_0 = np.where(Y[:,0]==0)"
   ]
  },
  {
   "cell_type": "code",
   "execution_count": 7,
   "id": "89b9b0fb",
   "metadata": {
    "scrolled": true
   },
   "outputs": [],
   "source": [
    "X_0 = X[idxs_0]\n",
    "Y_0 = Y[idxs_0]"
   ]
  },
  {
   "cell_type": "code",
   "execution_count": 8,
   "id": "7c79de61",
   "metadata": {},
   "outputs": [],
   "source": [
    "X_1 = X[idxs_1]\n",
    "Y_1 = Y[idxs_1]"
   ]
  },
  {
   "cell_type": "code",
   "execution_count": 9,
   "id": "123a7901",
   "metadata": {},
   "outputs": [
    {
     "data": {
      "image/png": "[encoded data removed]",
      "text/plain": [
       "<Figure size 432x288 with 1 Axes>"
      ]
     },
     "metadata": {
      "needs_background": "light"
     },
     "output_type": "display_data"
    }
   ],
   "source": [
    "# plt.clf()\n",
    "plt.plot(X_0[:,0],X_0[:,1],\"r^\")\n",
    "plt.plot(X_1[:,0],X_1[:,1],\"bx\")\n",
    "plt.show()"
   ]
  },
  {
   "cell_type": "markdown",
   "id": "8a668605",
   "metadata": {},
   "source": [
    "## Model"
   ]
  },
  {
   "cell_type": "code",
   "execution_count": 10,
   "id": "5711436d",
   "metadata": {},
   "outputs": [],
   "source": [
    "class shallow_neural_network():\n",
    "    def __init__(self, num_input_features, num_hiddens):\n",
    "        self.num_input_features = num_input_features\n",
    "        self.num_hiddens = num_hiddens\n",
    "        \n",
    "        self.W1 = np.random.normal(size = (num_hiddens, num_input_features))\n",
    "        self.b1 = np.random.normal(size = (num_hiddens,1))\n",
    "        self.W2 = np.random.normal(size = (1,num_hiddens))\n",
    "        self.b2 = np.random.normal(size = (1,1))\n",
    "        \n",
    "    def sigmoid(self,z):\n",
    "        return 1/(1+np.exp(-z))\n",
    "    \n",
    "    def predict(self,X):\n",
    "        z1 = np.dot(self.W1,X.T) + self.b1\n",
    "        a1 = np.tanh(z1)\n",
    "        z2 = np.dot(self.W2,a1) + self.b2\n",
    "        a2 = self.sigmoid(z2)\n",
    "        return a2, (z1,a1,z2,a2)\n",
    "    \n",
    "    def compute_cost(self,A2,Y):\n",
    "        m = Y.shape[0] # number of examples\n",
    "\n",
    "        # Compute the cross-entropy cost\n",
    "        logprobs = np.multiply(np.log(A2),Y.T) + np.multiply(np.log(1-A2),1-Y.T)\n",
    "        cost = -np.sum(logprobs)/m\n",
    "        cost = float(np.squeeze(cost))  # makes sure cost is the dimension we expect. \n",
    "                                        # E.g., turns [[17]] into 17 \n",
    "\n",
    "        return cost"
   ]
  },
  {
   "cell_type": "code",
   "execution_count": 11,
   "id": "24bbb336",
   "metadata": {},
   "outputs": [],
   "source": [
    "def train(X,Y,model,lr=0.1):\n",
    "    \n",
    "    A2,(Z1,A1,Z2,_) = model.predict(X)\n",
    "    cost = model.compute_cost(A2,Y)\n",
    "    \n",
    "    m = len(X)\n",
    "    \n",
    "    dZ2 = A2 - Y.T\n",
    "    dW2 = np.dot(dZ2,A1.T)/m\n",
    "    db2 = np.sum(dZ2,axis=1,keepdims=True)/m\n",
    "    dZ1 = np.multiply(np.dot(model.W2.T,dZ2),(1-np.power(A1,2)))\n",
    "\n",
    "    dW1 = np.dot(dZ1,X)/m\n",
    "    db1 = np.sum(dZ1,axis=1,keepdims=True)/m\n",
    "\n",
    "    model.W1 = model.W1 - lr * dW1\n",
    "    model.b1 = model.b1 - lr * db1\n",
    "    model.W2 = model.W2 - lr * dW2\n",
    "    model.b2 = model.b2 - lr * db2\n",
    "    return cost"
   ]
  },
  {
   "cell_type": "code",
   "execution_count": 12,
   "id": "9d25e017",
   "metadata": {
    "scrolled": false
   },
   "outputs": [
    {
     "name": "stdout",
     "output_type": "stream",
     "text": [
      "0 0.7339680299396288\n",
      "10 0.6776857942520359\n",
      "20 0.6430052345106885\n",
      "30 0.5926259884347846\n",
      "40 0.5185778948130151\n",
      "50 0.426866866783189\n",
      "60 0.35032610690633975\n",
      "70 0.2965065972880879\n",
      "80 0.26067814649875176\n",
      "90 0.23633486908571583\n",
      "100 0.2190586657429334\n",
      "110 0.20625944894306905\n",
      "120 0.19643416230533445\n",
      "130 0.18867969580116697\n",
      "140 0.1824265529379472\n",
      "150 0.17729780105538073\n",
      "160 0.17303306671151422\n",
      "170 0.16944599058256074\n",
      "180 0.16639929118714175\n",
      "190 0.16378945588336313\n",
      "200 0.1615369326424351\n",
      "210 0.15957960706970456\n",
      "220 0.15786832423349909\n",
      "230 0.15636373109715948\n",
      "240 0.15503399967212667\n",
      "250 0.1538531539016476\n",
      "260 0.15279982019430077\n",
      "270 0.15185628122871478\n",
      "280 0.15100775060541033\n",
      "290 0.15024181073025897\n",
      "0.10744 sec\n"
     ]
    }
   ],
   "source": [
    "import time\n",
    "import math\n",
    "\n",
    "model = shallow_neural_network(2,3)\n",
    "start = time.time()\n",
    "for epoch in range(300):\n",
    "    cost = train(X,Y,model,1.0)\n",
    "    if epoch % 10 == 0:\n",
    "        print(epoch,cost)\n",
    "end = time.time()\n",
    "print(f\"{end - start:.5f} sec\")"
   ]
  },
  {
   "cell_type": "code",
   "execution_count": 13,
   "id": "252e5580",
   "metadata": {},
   "outputs": [
    {
     "name": "stdout",
     "output_type": "stream",
     "text": [
      "0.03996405147227507\n",
      "0.9894381900464905\n",
      "0.986829601693871\n",
      "0.005126942752881384\n"
     ]
    }
   ],
   "source": [
    "print(model.predict(np.array([(0,0)]))[0].item())\n",
    "print(model.predict(np.array([(0,1)]))[0].item())\n",
    "print(model.predict(np.array([(1,0)]))[0].item())\n",
    "print(model.predict(np.array([(1,1)]))[0].item())"
   ]
  },
  {
   "cell_type": "code",
   "execution_count": null,
   "id": "3b375cc8",
   "metadata": {},
   "outputs": [],
   "source": []
  }
 ],
 "metadata": {
  "kernelspec": {
   "display_name": "Python 3",
   "language": "python",
   "name": "python3"
  },
  "language_info": {
   "codemirror_mode": {
    "name": "ipython",
    "version": 3
   },
   "file_extension": ".py",
   "mimetype": "text/x-python",
   "name": "python",
   "nbconvert_exporter": "python",
   "pygments_lexer": "ipython3",
   "version": "3.9.6"
  }
 },
 "nbformat": 4,
 "nbformat_minor": 5
}
