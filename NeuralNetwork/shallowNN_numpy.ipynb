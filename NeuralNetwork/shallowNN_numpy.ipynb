{
 "cells": [
  {
   "cell_type": "markdown",
   "id": "7e458cea",
   "metadata": {},
   "source": [
    "# Shallow Neural Network using numpy"
   ]
  },
  {
   "cell_type": "code",
   "execution_count": 1,
   "id": "7ce5b345",
   "metadata": {},
   "outputs": [],
   "source": [
    "import numpy as np\n",
    "import matplotlib.pyplot as plt"
   ]
  },
  {
   "cell_type": "markdown",
   "id": "b435c305",
   "metadata": {},
   "source": [
    "## Simple numpy codes"
   ]
  },
  {
   "cell_type": "code",
   "execution_count": 2,
   "id": "9a068875",
   "metadata": {},
   "outputs": [
    {
     "name": "stdout",
     "output_type": "stream",
     "text": [
      "[4 8]\n"
     ]
    }
   ],
   "source": [
    "# Slicing\n",
    "a = np.array([2,4,6,8,10])\n",
    "b = np.array([1,3])\n",
    "print(a[b])"
   ]
  },
  {
   "cell_type": "code",
   "execution_count": 3,
   "id": "c4b6fef4",
   "metadata": {},
   "outputs": [
    {
     "name": "stdout",
     "output_type": "stream",
     "text": [
      "[0 1 2 3 4 5 6 7 8 9]\n"
     ]
    },
    {
     "data": {
      "text/plain": [
       "array([ 0,  1,  2,  3,  4, 50, 60, 70, 80, 90])"
      ]
     },
     "execution_count": 3,
     "metadata": {},
     "output_type": "execute_result"
    }
   ],
   "source": [
    "## Numpy where\n",
    "a = np.arange(10)\n",
    "print(a)\n",
    "np.where(a<5,a,10*a) # 조건 , True일때, False일때"
   ]
  },
  {
   "cell_type": "code",
   "execution_count": 4,
   "id": "8256ef06",
   "metadata": {},
   "outputs": [
    {
     "name": "stdout",
     "output_type": "stream",
     "text": [
      "[ 6  8 10 12]\n",
      "[ 6 12]\n"
     ]
    }
   ],
   "source": [
    "# Slicing anumpy array with condition\n",
    "a = np.array([2,4,6,8,10,12])\n",
    "b = np.array([1,3])\n",
    "print(a[a>5])\n",
    "print(a[a%3==0])"
   ]
  },
  {
   "cell_type": "markdown",
   "id": "b85bea86",
   "metadata": {},
   "source": [
    "## Data preparation"
   ]
  },
  {
   "cell_type": "code",
   "execution_count": 5,
   "id": "bb094d0c",
   "metadata": {},
   "outputs": [
    {
     "name": "stdout",
     "output_type": "stream",
     "text": [
      "X shape : (1000, 2)\n",
      "Y shape : (1000,)\n"
     ]
    }
   ],
   "source": [
    "## XOR data\n",
    "x_seeds = np.array([(0,0),(1,0),(0,1),(1,1)], dtype=float)\n",
    "y_seeds = np.array([0,1,1,0])\n",
    "\n",
    "N = 1000\n",
    "idxs = np.random.randint(0,4,N)\n",
    "\n",
    "X = x_seeds[idxs]\n",
    "Y = y_seeds[idxs]\n",
    "\n",
    "X += np.random.normal(scale = 0.25, size = X.shape)\n",
    "print(\"X shape : \" + str(X.shape) + \"\\nY shape : \" + str(Y.shape))"
   ]
  },
  {
   "cell_type": "markdown",
   "id": "712a2133",
   "metadata": {},
   "source": [
    "## Data Plotting"
   ]
  },
  {
   "cell_type": "code",
   "execution_count": 6,
   "id": "7f004227",
   "metadata": {},
   "outputs": [],
   "source": [
    "idxs_1 = np.where(Y==1)\n",
    "idxs_0 = np.where(Y==0)"
   ]
  },
  {
   "cell_type": "code",
   "execution_count": 7,
   "id": "537389cd",
   "metadata": {},
   "outputs": [],
   "source": [
    "X_0 = X[idxs_0]\n",
    "Y_0 = Y[idxs_0]\n",
    "X_1 = X[idxs_1]\n",
    "Y_1 = Y[idxs_1]"
   ]
  },
  {
   "cell_type": "code",
   "execution_count": 8,
   "id": "449a25f2",
   "metadata": {},
   "outputs": [
    {
     "data": {
      "image/png": "[encoded data removed]",
      "text/plain": [
       "<Figure size 432x288 with 1 Axes>"
      ]
     },
     "metadata": {
      "needs_background": "light"
     },
     "output_type": "display_data"
    }
   ],
   "source": [
    "plt.plot(X_0[:,0],X_0[:,1],\"r^\")\n",
    "plt.plot(X_1[:,0],X_1[:,1],\"bx\")\n",
    "plt.show()"
   ]
  },
  {
   "cell_type": "markdown",
   "id": "87c4e4f5",
   "metadata": {},
   "source": [
    "## Model"
   ]
  },
  {
   "cell_type": "code",
   "execution_count": 9,
   "id": "1edb5b82",
   "metadata": {},
   "outputs": [],
   "source": [
    "class shallow_neural_network():\n",
    "    def __init__(self, num_input_features, num_hiddens):\n",
    "        self.num_input_features = num_input_features\n",
    "        self.num_hiddens = num_hiddens\n",
    "\n",
    "        self.W1 = np.random.normal(size = (num_hiddens, num_input_features))\n",
    "        self.b1 = np.random.normal(size = num_hiddens)\n",
    "        self.W2 = np.random.normal(size = num_hiddens)\n",
    "        self.b2 = np.random.normal(size = 1)\n",
    "    \n",
    "    def sigmoid(self,z):\n",
    "        return 1/(1 + np.exp(-z))\n",
    "\n",
    "    def predict(self,x):\n",
    "        ## x.shape == (2,) , z1.shape == (3,)\n",
    "        z1 = np.matmul(self.W1,x) + self.b1\n",
    "        a1 = np.tanh(z1)   # (3,)\n",
    "        z2 = np.matmul(self.W2,a1) + self.b2\n",
    "        # z2.shape == (1,)\n",
    "        a2 = self.sigmoid(z2)\n",
    "        return a2, (z1,a1,z2,a2)"
   ]
  },
  {
   "cell_type": "markdown",
   "id": "44c8c03b",
   "metadata": {},
   "source": [
    "## Train & Test"
   ]
  },
  {
   "cell_type": "code",
   "execution_count": 10,
   "id": "ac4d6f47",
   "metadata": {},
   "outputs": [],
   "source": [
    "def train(X,Y,model,lr = 0.1):\n",
    "    dW1 = np.zeros_like(model.W1)\n",
    "    db1 = np.zeros_like(model.b1)\n",
    "    dW2 = np.zeros_like(model.W2)\n",
    "    db2 = np.zeros_like(model.b2)\n",
    "\n",
    "    # m training examples\n",
    "    m = len(X)\n",
    "    cost = 0.0\n",
    "\n",
    "    for x,y in zip(X,Y):\n",
    "        a2, (z1,a1,z2, _) = model.predict(x)\n",
    "        if y == 1:\n",
    "            cost -= np.log(a2)\n",
    "        else: \n",
    "            cost -= np.log(1-a2)\n",
    "\n",
    "        diff = a2 - y\n",
    "\n",
    "        #layer 2 \n",
    "        # db2\n",
    "        db2 += diff\n",
    "\n",
    "        # dW2\n",
    "        dW2 += a1 * diff\n",
    "        \n",
    "        # layer 1\n",
    "        # db1\n",
    "        db1 += (1-a1**2)*model.W2*diff\n",
    "\n",
    "        # dW1\n",
    "        dW1 += np.outer((1-a1**2)*model.W2*diff,x)\n",
    "\n",
    "    cost /= m\n",
    "    model.W1 -= lr * dW1/m\n",
    "    model.b1 -= lr * db1/m\n",
    "    model.W2 -= lr * dW2/m\n",
    "    model.b2 -= lr * db2/m\n",
    "\n",
    "    return cost"
   ]
  },
  {
   "cell_type": "code",
   "execution_count": 12,
   "id": "be911fdd",
   "metadata": {
    "scrolled": false
   },
   "outputs": [
    {
     "name": "stdout",
     "output_type": "stream",
     "text": [
      "0 [1.31366715]\n",
      "10 [0.58328191]\n",
      "20 [0.5277066]\n",
      "30 [0.469809]\n",
      "40 [0.35193481]\n",
      "50 [0.29239166]\n",
      "60 [0.25527212]\n",
      "70 [0.22950916]\n",
      "80 [0.21128573]\n",
      "90 [0.19815202]\n",
      "(0,0) prediction :  0.021166248757306223\n",
      "(0,1) prediction :  0.9542809048530243\n",
      "(1,0) prediction :  0.9498079562707639\n",
      "(1,1) prediction :  0.08495472245079536\n",
      "3.62657 sec\n"
     ]
    }
   ],
   "source": [
    "import time\n",
    "import math\n",
    "\n",
    "model1 = shallow_neural_network(2,3)\n",
    "start = time.time()\n",
    "for epoch in range(100):\n",
    "    cost = train(X,Y,model1,1.0)\n",
    "    if epoch % 10 == 0:\n",
    "        print(epoch,cost)\n",
    "end = time.time()\n",
    "\n",
    "print(\"(0,0) prediction : \",model1.predict((0,0))[0].item())\n",
    "print(\"(0,1) prediction : \",model1.predict((0,1))[0].item())\n",
    "print(\"(1,0) prediction : \",model1.predict((1,0))[0].item())\n",
    "print(\"(1,1) prediction : \",model1.predict((1,1))[0].item())\n",
    "\n",
    "print(f\"{end - start:.5f} sec\")"
   ]
  },
  {
   "cell_type": "code",
   "execution_count": 13,
   "id": "2701abf6",
   "metadata": {},
   "outputs": [],
   "source": [
    "# with no vectorization at all\n",
    "def train2(X,Y,model,lr = 0.1):\n",
    "    dW1 = np.zeros_like(model.W1)\n",
    "    db1 = np.zeros_like(model.b1)\n",
    "    dW2 = np.zeros_like(model.W2)\n",
    "    db2 = np.zeros_like(model.b2)\n",
    "\n",
    "    # m training examples\n",
    "    m = len(X)\n",
    "    cost = 0.0\n",
    "\n",
    "    for x,y in zip(X,Y):\n",
    "        a2, (z1,a1,z2, _) = model.predict(x)\n",
    "        if y == 1:\n",
    "            cost -= np.log(a2)\n",
    "        else: \n",
    "            cost -= np.log(1-a2)\n",
    "\n",
    "        diff = a2 - y\n",
    "\n",
    "        #layer 2 \n",
    "        # db2\n",
    "        db2 += diff\n",
    "\n",
    "        # dW2\n",
    "        for i in range(model.num_hiddens):\n",
    "            dW2[i] += a1[i]*diff\n",
    "\n",
    "\n",
    "        # db1\n",
    "        for i in range(model.num_hiddens):\n",
    "            db1[i] += (1-a1[i]**2)*model.W2[i]*diff\n",
    "\n",
    "\n",
    "        # dW1\n",
    "        for i in range(model.num_hiddens):\n",
    "            for j in range(model.num_input_features):\n",
    "                dW1[i,j] += x[j]*(1-a1[i]**2)*model.W2[i]*diff\n",
    "\n",
    "\n",
    "    cost /= m\n",
    "    model.W1 -= lr * dW1/m\n",
    "    model.b1 -= lr * db1/m\n",
    "    model.W2 -= lr * dW2/m\n",
    "    model.b2 -= lr * db2/m\n",
    "\n",
    "    return cost"
   ]
  },
  {
   "cell_type": "code",
   "execution_count": 14,
   "id": "b7f7b209",
   "metadata": {
    "scrolled": true
   },
   "outputs": [
    {
     "name": "stdout",
     "output_type": "stream",
     "text": [
      "0 [1.47225551]\n",
      "10 [0.63210296]\n",
      "20 [0.57298102]\n",
      "30 [0.49754483]\n",
      "40 [0.40528483]\n",
      "50 [0.32854909]\n",
      "60 [0.2783074]\n",
      "70 [0.24687197]\n",
      "80 [0.2263986]\n",
      "90 [0.21234805]\n",
      "0 [0.99392301]\n",
      "10 [0.68905705]\n",
      "20 [0.66464217]\n",
      "30 [0.63283193]\n",
      "40 [0.59428745]\n",
      "50 [0.55785556]\n",
      "60 [0.53051036]\n",
      "70 [0.51137146]\n",
      "80 [0.49779209]\n",
      "90 [0.48781001]\n",
      "------------no vectorization model-----------\n",
      "(0,0) prediction :  0.05801887052654909\n",
      "(0,1) prediction :  0.9724459000463227\n",
      "(1,0) prediction :  0.9028647878957113\n",
      "(1,1) prediction :  0.05285805743949728\n",
      "no vectorization model time : 6.20902 sec\n",
      "------------vectorization model-----------\n",
      "(0,0) prediction :  0.08980317031261985\n",
      "(0,1) prediction :  0.9350147931369456\n",
      "(1,0) prediction :  0.4971083985571043\n",
      "(1,1) prediction :  0.5189923223692029\n",
      "vectorization model time : 3.62427 sec\n"
     ]
    }
   ],
   "source": [
    "import time\n",
    "import math\n",
    "\n",
    "model_org = shallow_neural_network(2,3)\n",
    "start1 = time.time()\n",
    "for epoch in range(100):\n",
    "    cost = train2(X,Y,model_org,1.0)\n",
    "    if epoch % 10 == 0:\n",
    "        print(epoch,cost)\n",
    "end1 = time.time()\n",
    "\n",
    "model = shallow_neural_network(2,3)\n",
    "start2 = time.time()\n",
    "for epoch in range(100):\n",
    "    cost = train(X,Y,model,1.0)\n",
    "    if epoch % 10 == 0:\n",
    "        print(epoch,cost)\n",
    "end2 = time.time()\n",
    "\n",
    "print(\"------------no vectorization model-----------\")\n",
    "print(\"(0,0) prediction : \",model_org.predict((0,0))[0].item())\n",
    "print(\"(0,1) prediction : \",model_org.predict((0,1))[0].item())\n",
    "print(\"(1,0) prediction : \",model_org.predict((1,0))[0].item())\n",
    "print(\"(1,1) prediction : \",model_org.predict((1,1))[0].item())\n",
    "\n",
    "print(f\"no vectorization model time : {end1 - start1:.5f} sec\")\n",
    "\n",
    "print(\"------------vectorization model-----------\")\n",
    "print(\"(0,0) prediction : \",model.predict((0,0))[0].item())\n",
    "print(\"(0,1) prediction : \",model.predict((0,1))[0].item())\n",
    "print(\"(1,0) prediction : \",model.predict((1,0))[0].item())\n",
    "print(\"(1,1) prediction : \",model.predict((1,1))[0].item())\n",
    "\n",
    "print(f\"vectorization model time : {end2 - start2:.5f} sec\")"
   ]
  },
  {
   "cell_type": "code",
   "execution_count": null,
   "id": "509aa136",
   "metadata": {},
   "outputs": [],
   "source": []
  }
 ],
 "metadata": {
  "kernelspec": {
   "display_name": "Python 3",
   "language": "python",
   "name": "python3"
  },
  "language_info": {
   "codemirror_mode": {
    "name": "ipython",
    "version": 3
   },
   "file_extension": ".py",
   "mimetype": "text/x-python",
   "name": "python",
   "nbconvert_exporter": "python",
   "pygments_lexer": "ipython3",
   "version": "3.9.6"
  }
 },
 "nbformat": 4,
 "nbformat_minor": 5
}
