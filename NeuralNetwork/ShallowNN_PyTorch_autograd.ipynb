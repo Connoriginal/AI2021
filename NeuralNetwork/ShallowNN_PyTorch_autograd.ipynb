{
 "cells": [
  {
   "cell_type": "markdown",
   "id": "919a9b74",
   "metadata": {},
   "source": [
    "## Shallow Neural Network with PyTorch Autograd"
   ]
  },
  {
   "cell_type": "markdown",
   "id": "71b24b23",
   "metadata": {},
   "source": [
    "## Data preparation & Import"
   ]
  },
  {
   "cell_type": "code",
   "execution_count": 52,
   "id": "1365089c",
   "metadata": {},
   "outputs": [],
   "source": [
    "import numpy as np\n",
    "import torch\n",
    "import matplotlib.pyplot as plt"
   ]
  },
  {
   "cell_type": "code",
   "execution_count": 53,
   "id": "1343662e",
   "metadata": {},
   "outputs": [
    {
     "name": "stdout",
     "output_type": "stream",
     "text": [
      "X shape : (1000, 2)\n",
      "Y shape : (1000,)\n"
     ]
    }
   ],
   "source": [
    "## XOR data (NumPy)\n",
    "x_seeds = np.array([(0,0),(1,0),(0,1),(1,1)], dtype=np.float32)\n",
    "y_seeds = np.array([0,1,1,0])\n",
    "\n",
    "N = 1000\n",
    "idxs = np.random.randint(0,4,N)\n",
    "\n",
    "X = x_seeds[idxs]\n",
    "Y = y_seeds[idxs]\n",
    "\n",
    "X += np.random.normal(scale = 0.25, size = X.shape)\n",
    "print(\"X shape : \" + str(X.shape) + \"\\nY shape : \" + str(Y.shape))"
   ]
  },
  {
   "cell_type": "markdown",
   "id": "203ced0d",
   "metadata": {},
   "source": [
    "## Model"
   ]
  },
  {
   "cell_type": "code",
   "execution_count": 54,
   "id": "bb787d4c",
   "metadata": {},
   "outputs": [],
   "source": [
    "class shallow_neural_network():\n",
    "    def __init__(self, num_input_features, num_hiddens):\n",
    "        self.num_input_features = num_input_features\n",
    "        self.num_hiddens = num_hiddens\n",
    "\n",
    "        self.W1 = torch.randn((num_hiddens, num_input_features),requires_grad=True)\n",
    "        self.b1 = torch.randn(num_hiddens,requires_grad=True)\n",
    "        self.W2 = torch.randn(num_hiddens,requires_grad=True)\n",
    "        self.b2 = torch.randn(1,requires_grad=True)\n",
    "        \n",
    "        self.tanh = torch.nn.Tanh()\n",
    "        self.sigmoid = torch.nn.Sigmoid()\n",
    "\n",
    "    def predict(self,x):\n",
    "        ## x.shape == (2,) , z1.shape == (3,)\n",
    "        z1 = torch.matmul(self.W1,x) + self.b1\n",
    "        a1 = self.tanh(z1)   # (3,)\n",
    "        z2 = torch.matmul(self.W2,a1) + self.b2\n",
    "        # z2.shape == (1,)\n",
    "        a2 = self.sigmoid(z2)\n",
    "        return a2"
   ]
  },
  {
   "cell_type": "markdown",
   "id": "b92c6f26",
   "metadata": {},
   "source": [
    "## Training"
   ]
  },
  {
   "cell_type": "code",
   "execution_count": 55,
   "id": "8ae2cc1e",
   "metadata": {},
   "outputs": [],
   "source": [
    "def train(X,Y,model,lr = 0.1):\n",
    "    # m training examples\n",
    "    m = len(X)\n",
    "\n",
    "    cost = 0.0\n",
    "    for x,y in zip(X,Y):\n",
    "        x_torch = torch.from_numpy(x)\n",
    "        a2 = model.predict(x_torch)\n",
    "        \n",
    "        loss = 0.0\n",
    "        if y == 1:\n",
    "            loss -= torch.log(a2+0.0001)\n",
    "        else: \n",
    "            loss -= torch.log(1.0001-a2)\n",
    "\n",
    "        loss.backward()\n",
    "        cost += loss.item()\n",
    "\n",
    "    with torch.no_grad():\n",
    "        model.W1 -= lr * model.W1.grad/m\n",
    "        model.b1 -= lr * model.b1.grad/m\n",
    "        model.W2 -= lr * model.W2.grad/m\n",
    "        model.b2 -= lr * model.b2.grad/m\n",
    "    \n",
    "    model.W1.requires_grad = True\n",
    "    model.b1.requires_grad = True\n",
    "    model.W2.requires_grad = True\n",
    "    model.b2.requires_grad = True\n",
    "    \n",
    "    return cost/m"
   ]
  },
  {
   "cell_type": "code",
   "execution_count": 56,
   "id": "9e474047",
   "metadata": {},
   "outputs": [
    {
     "name": "stdout",
     "output_type": "stream",
     "text": [
      "0 0.7427808288633824\n",
      "10 0.6469942117333413\n",
      "20 0.2550292861610651\n",
      "30 0.22157075064152792\n",
      "40 0.2201689505310353\n",
      "50 0.26344249155037747\n",
      "60 0.27912642528675385\n",
      "70 0.2341277286703844\n",
      "80 0.28338343895208257\n",
      "90 0.25614442194087494\n"
     ]
    }
   ],
   "source": [
    "model = shallow_neural_network(2,3)\n",
    "\n",
    "for epoch in range(100):\n",
    "    cost = train(X,Y,model,1.0)\n",
    "    if epoch%10 == 0:\n",
    "        print(epoch,cost)"
   ]
  },
  {
   "cell_type": "markdown",
   "id": "c33fb6ce",
   "metadata": {},
   "source": [
    "## Testing"
   ]
  },
  {
   "cell_type": "code",
   "execution_count": 57,
   "id": "e96dcf23",
   "metadata": {},
   "outputs": [
    {
     "name": "stdout",
     "output_type": "stream",
     "text": [
      "tensor([1.4492e-21], grad_fn=<SigmoidBackward>)\n",
      "tensor([1.], grad_fn=<SigmoidBackward>)\n",
      "tensor([0.9290], grad_fn=<SigmoidBackward>)\n",
      "tensor([5.2646e-22], grad_fn=<SigmoidBackward>)\n"
     ]
    }
   ],
   "source": [
    "print(model.predict(torch.Tensor((0,0))))\n",
    "print(model.predict(torch.Tensor((0,1))))\n",
    "print(model.predict(torch.Tensor((1,0))))\n",
    "print(model.predict(torch.Tensor((1,1))))"
   ]
  },
  {
   "cell_type": "code",
   "execution_count": null,
   "id": "f062faed",
   "metadata": {},
   "outputs": [],
   "source": []
  }
 ],
 "metadata": {
  "kernelspec": {
   "display_name": "Python 3",
   "language": "python",
   "name": "python3"
  },
  "language_info": {
   "codemirror_mode": {
    "name": "ipython",
    "version": 3
   },
   "file_extension": ".py",
   "mimetype": "text/x-python",
   "name": "python",
   "nbconvert_exporter": "python",
   "pygments_lexer": "ipython3",
   "version": "3.9.6"
  }
 },
 "nbformat": 4,
 "nbformat_minor": 5
}
