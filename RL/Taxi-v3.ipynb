{
 "cells": [
  {
   "cell_type": "markdown",
   "id": "c65d61b6",
   "metadata": {},
   "source": [
    "# Taxi-v3 with Reinforce Learning"
   ]
  },
  {
   "cell_type": "code",
   "execution_count": 1,
   "id": "70a65ecf",
   "metadata": {},
   "outputs": [],
   "source": [
    "import gym"
   ]
  },
  {
   "cell_type": "markdown",
   "id": "1c0f901e",
   "metadata": {},
   "source": [
    "## Initialize environment"
   ]
  },
  {
   "cell_type": "code",
   "execution_count": 2,
   "id": "c27ecedc",
   "metadata": {},
   "outputs": [],
   "source": [
    "env = gym.make(\"Taxi-v3\").env"
   ]
  },
  {
   "cell_type": "markdown",
   "id": "6296378e",
   "metadata": {},
   "source": [
    "## Render environment"
   ]
  },
  {
   "cell_type": "code",
   "execution_count": 3,
   "id": "7a0a13ee",
   "metadata": {},
   "outputs": [
    {
     "name": "stdout",
     "output_type": "stream",
     "text": [
      "+---------+\n",
      "|\u001b[35mR\u001b[0m: | : :G|\n",
      "| :\u001b[43m \u001b[0m| : : |\n",
      "| : : : : |\n",
      "| | : | : |\n",
      "|Y| : |\u001b[34;1mB\u001b[0m: |\n",
      "+---------+\n",
      "\n"
     ]
    }
   ],
   "source": [
    "env.render()"
   ]
  },
  {
   "cell_type": "code",
   "execution_count": 4,
   "id": "b918ba7e",
   "metadata": {},
   "outputs": [
    {
     "name": "stdout",
     "output_type": "stream",
     "text": [
      "+---------+\n",
      "|\u001b[35mR\u001b[0m: |\u001b[43m \u001b[0m: :\u001b[34;1mG\u001b[0m|\n",
      "| : | : : |\n",
      "| : : : : |\n",
      "| | : | : |\n",
      "|Y| : |B: |\n",
      "+---------+\n",
      "\n"
     ]
    }
   ],
   "source": [
    "env.reset()\n",
    "env.render()"
   ]
  },
  {
   "cell_type": "markdown",
   "id": "3081b345",
   "metadata": {},
   "source": [
    "## Action space and state space\n",
    "* States (Taxi row, Taxi col, passenger_location, destination)"
   ]
  },
  {
   "cell_type": "code",
   "execution_count": 5,
   "id": "71887079",
   "metadata": {},
   "outputs": [
    {
     "name": "stdout",
     "output_type": "stream",
     "text": [
      "Action Space Discrete(6)\n",
      "State Space Discrete(500)\n",
      "State: 328\n",
      "+---------+\n",
      "|\u001b[35mR\u001b[0m: | : :G|\n",
      "| : | : : |\n",
      "| : : : : |\n",
      "| |\u001b[43m \u001b[0m: | : |\n",
      "|\u001b[34;1mY\u001b[0m| : |B: |\n",
      "+---------+\n",
      "\n",
      "State: 334\n",
      "+---------+\n",
      "|R: | : :G|\n",
      "| : | : : |\n",
      "| : : : : |\n",
      "| |\u001b[43m \u001b[0m: | : |\n",
      "|\u001b[35mY\u001b[0m| : |\u001b[34;1mB\u001b[0m: |\n",
      "+---------+\n",
      "\n"
     ]
    }
   ],
   "source": [
    "print(\"Action Space {}\".format(env.action_space))\n",
    "print(\"State Space {}\".format(env.observation_space))\n",
    "\n",
    "state = env.encode(3,1,2,0)\n",
    "print(\"State:\",state)\n",
    "\n",
    "env.s = state\n",
    "env.render()\n",
    "\n",
    "state = env.encode(3,1,3,2)\n",
    "print(\"State:\",state)\n",
    "\n",
    "env.s = state\n",
    "env.render()"
   ]
  },
  {
   "cell_type": "markdown",
   "id": "5880b643",
   "metadata": {},
   "source": [
    "## Reward table P"
   ]
  },
  {
   "cell_type": "code",
   "execution_count": 6,
   "id": "7ffeadf6",
   "metadata": {},
   "outputs": [
    {
     "data": {
      "text/plain": [
       "{0: [(1.0, 428, -1, False)],\n",
       " 1: [(1.0, 228, -1, False)],\n",
       " 2: [(1.0, 348, -1, False)],\n",
       " 3: [(1.0, 328, -1, False)],\n",
       " 4: [(1.0, 328, -10, False)],\n",
       " 5: [(1.0, 328, -10, False)]}"
      ]
     },
     "execution_count": 6,
     "metadata": {},
     "output_type": "execute_result"
    }
   ],
   "source": [
    "env.P[328]"
   ]
  },
  {
   "cell_type": "markdown",
   "id": "4ee3c6e2",
   "metadata": {},
   "source": [
    "# Brute Force algorithm"
   ]
  },
  {
   "cell_type": "code",
   "execution_count": 8,
   "id": "1b56a3b0",
   "metadata": {},
   "outputs": [
    {
     "name": "stdout",
     "output_type": "stream",
     "text": [
      "Timesteps taken : 2592\n",
      "Penalties incurred: 828\n"
     ]
    }
   ],
   "source": [
    "env.s = 328 # set environment to illustration's state\n",
    "\n",
    "epochs = 0\n",
    "penalties, reward = 0, 0\n",
    "\n",
    "frames = [] # for animation\n",
    "\n",
    "done = False\n",
    "\n",
    "while not done :\n",
    "    action = env.action_space.sample()\n",
    "    state, reward, done, info = env.step(action)\n",
    "    \n",
    "    if reward == -10:\n",
    "        penalties += 1\n",
    "    \n",
    "    # Put each rendered frame into dict for animation\n",
    "    frames.append({\n",
    "        'frame':env.render(mode='ansi'),\n",
    "        'state':state,\n",
    "        'action':action,\n",
    "        'reward':reward\n",
    "    })\n",
    "    \n",
    "    epochs += 1\n",
    "\n",
    "print(\"Timesteps taken : {}\".format(epochs))\n",
    "print(\"Penalties incurred: {}\".format(penalties))"
   ]
  },
  {
   "cell_type": "code",
   "execution_count": 10,
   "id": "eb32ec78",
   "metadata": {},
   "outputs": [],
   "source": [
    "from IPython.display import clear_output\n",
    "from time import sleep\n",
    "\n",
    "def print_frames(frames, s = .01):\n",
    "    for i, frame in enumerate(frames):\n",
    "        clear_output(wait=True)\n",
    "        print(frame['frame'])\n",
    "        print(f\"Timestep : {i+1}\")\n",
    "        print(f\"State : {frame['state']}\")\n",
    "        print(f\"Action : {frame['action']}\")\n",
    "        print(f\"Reward : {frame['reward']}\")\n",
    "        sleep(s)"
   ]
  },
  {
   "cell_type": "code",
   "execution_count": 11,
   "id": "db1b486d",
   "metadata": {},
   "outputs": [
    {
     "name": "stdout",
     "output_type": "stream",
     "text": [
      "+---------+\n",
      "|\u001b[35m\u001b[34;1m\u001b[43mR\u001b[0m\u001b[0m\u001b[0m: | : :G|\n",
      "| : | : : |\n",
      "| : : : : |\n",
      "| | : | : |\n",
      "|Y| : |B: |\n",
      "+---------+\n",
      "  (Dropoff)\n",
      "\n",
      "Timestep : 2592\n",
      "State : 0\n",
      "Action : 5\n",
      "Reward : 20\n"
     ]
    }
   ],
   "source": [
    "print_frames(frames)"
   ]
  },
  {
   "cell_type": "markdown",
   "id": "3253cba0",
   "metadata": {},
   "source": [
    "# Q-learning\n",
    "* Q-table size : (# of states, # of actions)"
   ]
  },
  {
   "cell_type": "code",
   "execution_count": 14,
   "id": "837ab8f1",
   "metadata": {},
   "outputs": [],
   "source": [
    "import numpy as np\n",
    "import random\n",
    "q_table = np.zeros([env.observation_space.n, env.action_space.n])"
   ]
  },
  {
   "cell_type": "markdown",
   "id": "9d1e5ac7",
   "metadata": {},
   "source": [
    "## Q-learning Training"
   ]
  },
  {
   "cell_type": "code",
   "execution_count": 15,
   "id": "cd18bc94",
   "metadata": {},
   "outputs": [
    {
     "name": "stdout",
     "output_type": "stream",
     "text": [
      "Episode : 100000\n"
     ]
    }
   ],
   "source": [
    "# Hyperparameters\n",
    "alpha = 0.1\n",
    "gamma = 0.6\n",
    "epsilon = 0.1\n",
    "\n",
    "# for plotting metrics\n",
    "all_epochs = []\n",
    "all_penalties = []\n",
    "\n",
    "for i in range(1,100001):\n",
    "    state = env.reset()\n",
    "    \n",
    "    epochs, penalties, reward = 0,0,0\n",
    "    done = False\n",
    "    \n",
    "    while not done:\n",
    "        if random.uniform(0,1) < epsilon:\n",
    "            action = env.action_space.sample() # Explore action space\n",
    "        else :\n",
    "            action = np.argmax(q_table[state]) # Exploit leaned values\n",
    "        \n",
    "        next_state, reward, done, info = env.step(action)\n",
    "        \n",
    "        old_value = q_table[state,action]\n",
    "        next_max = np.max(q_table[next_state])\n",
    "        \n",
    "        new_value = (1-alpha)*old_value + alpha * (reward + gamma*next_max)\n",
    "        q_table[state,action] = new_value\n",
    "        \n",
    "        if reward == -1:\n",
    "            penalties += 1\n",
    "        \n",
    "        state = next_state\n",
    "        epochs += 1\n",
    "    \n",
    "    if i%100 == 0:\n",
    "        clear_output(wait=True)\n",
    "        print(f\"Episode : {i}\")"
   ]
  },
  {
   "cell_type": "markdown",
   "id": "e01690d3",
   "metadata": {},
   "source": [
    "## Q-learning Testing"
   ]
  },
  {
   "cell_type": "code",
   "execution_count": 16,
   "id": "2efea84d",
   "metadata": {},
   "outputs": [
    {
     "name": "stdout",
     "output_type": "stream",
     "text": [
      "Results after 100 episodes : \n",
      "Average timesteps per episode : 13.09\n",
      "Average penalties per episode : 0.0\n"
     ]
    }
   ],
   "source": [
    "total_epochs, total_penalties = 0, 0\n",
    "episodes = 100\n",
    "\n",
    "for _ in range(episodes):\n",
    "    state = env.reset()\n",
    "    epochs, penalties, reward = 0, 0, 0\n",
    "    \n",
    "    done = False\n",
    "    \n",
    "    while not done:\n",
    "        action = np.argmax(q_table[state])\n",
    "        state, reward, done, info = env.step(action)\n",
    "        \n",
    "        if reward == -10:\n",
    "            penalties += 1\n",
    "        \n",
    "        epochs += 1\n",
    "    \n",
    "    total_penalties += penalties\n",
    "    total_epochs += epochs\n",
    "    \n",
    "print(f\"Results after {episodes} episodes : \")\n",
    "print(f\"Average timesteps per episode : {total_epochs/episodes}\")\n",
    "print(f\"Average penalties per episode : {total_penalties/episodes}\")"
   ]
  },
  {
   "cell_type": "markdown",
   "id": "a9c89674",
   "metadata": {},
   "source": [
    "## Q-learning : Test(print result)"
   ]
  },
  {
   "cell_type": "code",
   "execution_count": 19,
   "id": "3f33b96d",
   "metadata": {},
   "outputs": [],
   "source": [
    "frames = []\n",
    "\n",
    "state = env.reset()\n",
    "epochs, penalties, reward = 0,0,0\n",
    "\n",
    "done = False\n",
    "\n",
    "while not done:\n",
    "    action = np.argmax(q_table[state])\n",
    "    state, reward, done, info = env.step(action)\n",
    "    \n",
    "    if reward == -10:\n",
    "        penalties += 1\n",
    "    \n",
    "    epochs += 1\n",
    "    frames.append({\n",
    "        'frame':env.render(mode='ansi'),\n",
    "        'state':state,\n",
    "        'action':action,\n",
    "        'reward':reward\n",
    "    })\n",
    "    \n",
    "total_penalties += penalties\n",
    "total_epochs += epochs"
   ]
  },
  {
   "cell_type": "code",
   "execution_count": 23,
   "id": "3d87fb28",
   "metadata": {},
   "outputs": [
    {
     "name": "stdout",
     "output_type": "stream",
     "text": [
      "+---------+\n",
      "|R: | : :\u001b[35m\u001b[34;1m\u001b[43mG\u001b[0m\u001b[0m\u001b[0m|\n",
      "| : | : : |\n",
      "| : : : : |\n",
      "| | : | : |\n",
      "|Y| : |B: |\n",
      "+---------+\n",
      "  (Dropoff)\n",
      "\n",
      "Timestep : 12\n",
      "State : 85\n",
      "Action : 5\n",
      "Reward : 20\n"
     ]
    }
   ],
   "source": [
    "print_frames(frames, s=0.3)"
   ]
  },
  {
   "cell_type": "code",
   "execution_count": null,
   "id": "9a7197da",
   "metadata": {},
   "outputs": [],
   "source": []
  }
 ],
 "metadata": {
  "kernelspec": {
   "display_name": "Python 3",
   "language": "python",
   "name": "python3"
  },
  "language_info": {
   "codemirror_mode": {
    "name": "ipython",
    "version": 3
   },
   "file_extension": ".py",
   "mimetype": "text/x-python",
   "name": "python",
   "nbconvert_exporter": "python",
   "pygments_lexer": "ipython3",
   "version": "3.9.6"
  }
 },
 "nbformat": 4,
 "nbformat_minor": 5
}
